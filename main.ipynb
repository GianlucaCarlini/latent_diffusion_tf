{
 "cells": [
  {
   "cell_type": "code",
   "execution_count": 1,
   "metadata": {},
   "outputs": [],
   "source": [
    "from source.denoiser import get_unet"
   ]
  },
  {
   "cell_type": "code",
   "execution_count": 2,
   "metadata": {},
   "outputs": [],
   "source": [
    "unet = get_unet(input_shape=(32, 32, 3), depths=[4, 4, 4], initial_dim=48)"
   ]
  },
  {
   "cell_type": "code",
   "execution_count": 3,
   "metadata": {},
   "outputs": [
    {
     "name": "stdout",
     "output_type": "stream",
     "text": [
      "Model: \"model\"\n",
      "__________________________________________________________________________________________________\n",
      " Layer (type)                   Output Shape         Param #     Connected to                     \n",
      "==================================================================================================\n",
      " input_1 (InputLayer)           [(None, 1, 1, 1)]    0           []                               \n",
      "                                                                                                  \n",
      " Input (InputLayer)             [(None, 32, 32, 3)]  0           []                               \n",
      "                                                                                                  \n",
      " sinusoidal_embedding (Sinusoid  (None, 1, 1, 48)    0           ['input_1[0][0]']                \n",
      " alEmbedding)                                                                                     \n",
      "                                                                                                  \n",
      " conv2d (Conv2D)                (None, 32, 32, 48)   192         ['Input[0][0]']                  \n",
      "                                                                                                  \n",
      " up_sampling2d (UpSampling2D)   (None, 32, 32, 48)   0           ['sinusoidal_embedding[0][0]']   \n",
      "                                                                                                  \n",
      " concatenate (Concatenate)      (None, 32, 32, 96)   0           ['conv2d[0][0]',                 \n",
      "                                                                  'up_sampling2d[0][0]']          \n",
      "                                                                                                  \n",
      " residual_block (ResidualBlock)  (None, 32, 32, 48)  67248       ['concatenate[0][0]']            \n",
      "                                                                                                  \n",
      " residual_block_1 (ResidualBloc  (None, 32, 32, 48)  41760       ['residual_block[0][0]']         \n",
      " k)                                                                                               \n",
      "                                                                                                  \n",
      " residual_block_2 (ResidualBloc  (None, 32, 32, 48)  41760       ['residual_block_1[0][0]']       \n",
      " k)                                                                                               \n",
      "                                                                                                  \n",
      " residual_block_3 (ResidualBloc  (None, 32, 32, 48)  41760       ['residual_block_2[0][0]']       \n",
      " k)                                                                                               \n",
      "                                                                                                  \n",
      " conv2d_13 (Conv2D)             (None, 16, 16, 48)   9264        ['residual_block_3[0][0]']       \n",
      "                                                                                                  \n",
      " residual_block_4 (ResidualBloc  (None, 16, 16, 96)  129600      ['conv2d_13[0][0]']              \n",
      " k)                                                                                               \n",
      "                                                                                                  \n",
      " residual_block_5 (ResidualBloc  (None, 16, 16, 96)  166464      ['residual_block_4[0][0]']       \n",
      " k)                                                                                               \n",
      "                                                                                                  \n",
      " residual_block_6 (ResidualBloc  (None, 16, 16, 96)  166464      ['residual_block_5[0][0]']       \n",
      " k)                                                                                               \n",
      "                                                                                                  \n",
      " residual_block_7 (ResidualBloc  (None, 16, 16, 96)  166464      ['residual_block_6[0][0]']       \n",
      " k)                                                                                               \n",
      "                                                                                                  \n",
      " conv2d_26 (Conv2D)             (None, 8, 8, 96)     36960       ['residual_block_7[0][0]']       \n",
      "                                                                                                  \n",
      " residual_block_8 (ResidualBloc  (None, 8, 8, 192)   517248      ['conv2d_26[0][0]']              \n",
      " k)                                                                                               \n",
      "                                                                                                  \n",
      " residual_block_9 (ResidualBloc  (None, 8, 8, 192)   664704      ['residual_block_8[0][0]']       \n",
      " k)                                                                                               \n",
      "                                                                                                  \n",
      " residual_block_10 (ResidualBlo  (None, 8, 8, 192)   664704      ['residual_block_9[0][0]']       \n",
      " ck)                                                                                              \n",
      "                                                                                                  \n",
      " residual_block_11 (ResidualBlo  (None, 8, 8, 192)   664704      ['residual_block_10[0][0]']      \n",
      " ck)                                                                                              \n",
      "                                                                                                  \n",
      " up_sampling2d_1 (UpSampling2D)  (None, 16, 16, 192)  0          ['residual_block_11[0][0]']      \n",
      "                                                                                                  \n",
      " concatenate_1 (Concatenate)    (None, 16, 16, 288)  0           ['up_sampling2d_1[0][0]',        \n",
      "                                                                  'residual_block_7[0][0]']       \n",
      "                                                                                                  \n",
      " residual_block_12 (ResidualBlo  (None, 16, 16, 96)  360480      ['concatenate_1[0][0]']          \n",
      " ck)                                                                                              \n",
      "                                                                                                  \n",
      " residual_block_13 (ResidualBlo  (None, 16, 16, 96)  166464      ['residual_block_12[0][0]']      \n",
      " ck)                                                                                              \n",
      "                                                                                                  \n",
      " residual_block_14 (ResidualBlo  (None, 16, 16, 96)  166464      ['residual_block_13[0][0]']      \n",
      " ck)                                                                                              \n",
      "                                                                                                  \n",
      " residual_block_15 (ResidualBlo  (None, 16, 16, 96)  166464      ['residual_block_14[0][0]']      \n",
      " ck)                                                                                              \n",
      "                                                                                                  \n",
      " up_sampling2d_2 (UpSampling2D)  (None, 32, 32, 96)  0           ['residual_block_15[0][0]']      \n",
      "                                                                                                  \n",
      " concatenate_2 (Concatenate)    (None, 32, 32, 144)  0           ['up_sampling2d_2[0][0]',        \n",
      "                                                                  'residual_block_3[0][0]']       \n",
      "                                                                                                  \n",
      " residual_block_16 (ResidualBlo  (None, 32, 32, 48)  90384       ['concatenate_2[0][0]']          \n",
      " ck)                                                                                              \n",
      "                                                                                                  \n",
      " residual_block_17 (ResidualBlo  (None, 32, 32, 48)  41760       ['residual_block_16[0][0]']      \n",
      " ck)                                                                                              \n",
      "                                                                                                  \n",
      " residual_block_18 (ResidualBlo  (None, 32, 32, 48)  41760       ['residual_block_17[0][0]']      \n",
      " ck)                                                                                              \n",
      "                                                                                                  \n",
      " residual_block_19 (ResidualBlo  (None, 32, 32, 48)  41760       ['residual_block_18[0][0]']      \n",
      " ck)                                                                                              \n",
      "                                                                                                  \n",
      "==================================================================================================\n",
      "Total params: 4,454,832\n",
      "Trainable params: 4,454,832\n",
      "Non-trainable params: 0\n",
      "__________________________________________________________________________________________________\n"
     ]
    }
   ],
   "source": [
    "unet.summary()"
   ]
  }
 ],
 "metadata": {
  "kernelspec": {
   "display_name": "tf-gpu",
   "language": "python",
   "name": "python3"
  },
  "language_info": {
   "codemirror_mode": {
    "name": "ipython",
    "version": 3
   },
   "file_extension": ".py",
   "mimetype": "text/x-python",
   "name": "python",
   "nbconvert_exporter": "python",
   "pygments_lexer": "ipython3",
   "version": "3.9.7"
  },
  "orig_nbformat": 4
 },
 "nbformat": 4,
 "nbformat_minor": 2
}
